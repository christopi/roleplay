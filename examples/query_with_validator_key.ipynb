{
 "cells": [
  {
   "cell_type": "code",
   "execution_count": 1,
   "metadata": {},
   "outputs": [
    {
     "data": {
      "text/plain": [
       "Prompting(roles=['user'], messages=['What is the meaning of life?'], completion='')"
      ]
     },
     "execution_count": 1,
     "metadata": {},
     "output_type": "execute_result"
    }
   ],
   "source": [
    "# Import bittensor and the text-prompting packages\n",
    "import bittensor as bt\n",
    "import prompting\n",
    "\n",
    "bt.trace()\n",
    "\n",
    "# Create a Prompting synapse object to house the request body\n",
    "syn = prompting.protocol.Prompting(roles=['user'], messages=['What is the meaning of life?'])\n",
    "syn"
   ]
  },
  {
   "cell_type": "code",
   "execution_count": 18,
   "metadata": {},
   "outputs": [
    {
     "data": {
      "text/plain": [
       "wallet(default, miner44, ~/.bittensor/wallets/)"
      ]
     },
     "execution_count": 18,
     "metadata": {},
     "output_type": "execute_result"
    }
   ],
   "source": [
    "# create a wallet instance that must be registered on the network\n",
    "wallet = bt.wallet(name=\"default\", hotkey=\"default\")\n",
    "wallet"
   ]
  },
  {
   "cell_type": "code",
   "execution_count": 19,
   "metadata": {},
   "outputs": [
    {
     "data": {
      "text/plain": [
       "metagraph(netuid:8, n:43, block:330613, network:test)"
      ]
     },
     "execution_count": 19,
     "metadata": {},
     "output_type": "execute_result"
    }
   ],
   "source": [
    "# instantiate the metagraph\n",
    "metagraph = bt.metagraph(\n",
    "    netuid=8, network=\"test\", sync=True, lite=False\n",
    ")\n",
    "metagraph"
   ]
  },
  {
   "cell_type": "code",
   "execution_count": 20,
   "metadata": {},
   "outputs": [
    {
     "data": {
      "text/plain": [
       "[AxonInfo( /ipv0/0.0.0.0:0, 5FLDSzoPejcrQW5CYbXvq7WE5X9NL6SFD4xJqmyjc72xUhHE, 5HgZKUVP2NCt5wuQ6pPiT27drDh4KL49rLhRKe7XCcLettUa, 0 ),\n",
       " AxonInfo( /ipv4/142.179.79.99:8098, 5CRpcbKCAjTggD2AyGJds9CgXad83hdpBYLvsvE3JdRmwqN6, 5HgZKUVP2NCt5wuQ6pPiT27drDh4KL49rLhRKe7XCcLettUa, 600 ),\n",
       " AxonInfo( /ipv4/142.179.79.99:8098, 5EntLszo4dRveuHK7MmKxdMZL87oTkmjvNf6VuWkViSDgAbg, 5HgZKUVP2NCt5wuQ6pPiT27drDh4KL49rLhRKe7XCcLettUa, 600 ),\n",
       " AxonInfo( /ipv4/142.179.79.99:8098, 5CXTmXekiNHa8K4qf38L6JAEi5YwqjgEP86J7sdntQ4jELMH, 5HgZKUVP2NCt5wuQ6pPiT27drDh4KL49rLhRKe7XCcLettUa, 600 ),\n",
       " AxonInfo( /ipv4/142.179.79.99:8098, 5EUSrVoEQpzVVKDjmmqD9gPwoKMV78SXMWkji83oKuKYAaKX, 5HgZKUVP2NCt5wuQ6pPiT27drDh4KL49rLhRKe7XCcLettUa, 600 ),\n",
       " AxonInfo( /ipv4/142.179.79.99:8098, 5DDYXx4yWrXanQ38wJaW8bTkfwJaCziWeH7mexNAxBMB8KAJ, 5HgZKUVP2NCt5wuQ6pPiT27drDh4KL49rLhRKe7XCcLettUa, 600 ),\n",
       " AxonInfo( /ipv0/0.0.0.0:0, 5H6FFeVR21WLRxkh7kAe5dcs4WRKP65mZKZy1NzhaVjcgXtT, 5HYk9SioKwg3AuGqZrP1nfXUyxXM4JDeeesBiFA95Ro8wnKG, 0 ),\n",
       " AxonInfo( /ipv0/0.0.0.0:0, 5CP9yFmNqiafpXDsTrdZvFpGgnGUkmGW2geM4TZPJmWYaVu2, 5E4LrcENH4zM4EXmiysXXEmQPjtbiKAj3L2XKshMR7K7as3a, 0 ),\n",
       " AxonInfo( /ipv0/0.0.0.0:0, 5CD1W3JvbVsNu5ouJRs32MmNizzSkpxJtfy1zom2CYFQDZxk, 5F797cU6G3zaftmw5NG6pUDjrVvgHhaZcXePivmjx4hXxzn7, 0 ),\n",
       " AxonInfo( /ipv4/192.9.144.70:8093, 5FgznZZxh8npgWrxi57VtHwEXUyJmMvQXeCsxs1buui8QynB, 5F797cU6G3zaftmw5NG6pUDjrVvgHhaZcXePivmjx4hXxzn7, 600 ),\n",
       " AxonInfo( /ipv4/192.9.144.70:8092, 5EvcLJBq53x6i9BhRjTaq3PaUMmhiuoTCgU3XWL3A1w1CYge, 5F797cU6G3zaftmw5NG6pUDjrVvgHhaZcXePivmjx4hXxzn7, 600 ),\n",
       " AxonInfo( /ipv4/192.9.144.70:8094, 5HBoAg19LEVaNxhv8XWQpZnjfNJYU1kGjk9TdPJecKPtAQ4r, 5F797cU6G3zaftmw5NG6pUDjrVvgHhaZcXePivmjx4hXxzn7, 600 ),\n",
       " AxonInfo( /ipv4/192.9.144.70:8095, 5FpWNbGGSQSNSF4SH3yrqUkNdkTmfT86jYLjKmhkuCsdmzeV, 5F797cU6G3zaftmw5NG6pUDjrVvgHhaZcXePivmjx4hXxzn7, 600 ),\n",
       " AxonInfo( /ipv4/216.153.62.113:8888, 5C86aJ2uQawR6P6veaJQXNK9HaWh6NMbUhTiLs65kq4ZW3NH, 5GeYLB44QY9wcqJmFZvJW8D3EYPDaJGSgGfkbJVxUbkVcU7C, 600 ),\n",
       " AxonInfo( /ipv0/0.0.0.0:0, 5ELoP6fx4JMJELGFZT1gobySjh2j5QKSpDKoynsDSBNXfS7F, 5GeYLB44QY9wcqJmFZvJW8D3EYPDaJGSgGfkbJVxUbkVcU7C, 0 ),\n",
       " AxonInfo( /ipv0/0.0.0.0:0, 5CvjMLhb492gaZrJFauY87qMMwJomKuK7dTUaXgdUanLTU9Z, 5E4LrcENH4zM4EXmiysXXEmQPjtbiKAj3L2XKshMR7K7as3a, 0 ),\n",
       " AxonInfo( /ipv4/192.9.144.70:8096, 5DSRaVLKn7MUjy7rg957Ykur8kKKmT3bNj273kpaQKhSWmx5, 5F797cU6G3zaftmw5NG6pUDjrVvgHhaZcXePivmjx4hXxzn7, 600 ),\n",
       " AxonInfo( /ipv0/0.0.0.0:0, 5FtGpiLwt3GyKUZGrrpMMPbQU7ZGeLYMunzujgwXJfnWj7EU, 5GeYLB44QY9wcqJmFZvJW8D3EYPDaJGSgGfkbJVxUbkVcU7C, 0 ),\n",
       " AxonInfo( /ipv4/149.137.225.62:8098, 5EHnf4FMXm7uWghWzLxZcnGDRy1AJKqF5MxmApxcbHV53Ao4, 5E4LrcENH4zM4EXmiysXXEmQPjtbiKAj3L2XKshMR7K7as3a, 600 ),\n",
       " AxonInfo( /ipv4/216.153.62.113:8891, 5FpxM1JtFgxxcFQMiuH1YdRpAS1aP3Wc32D5ELp9zE2AZsWS, 5GeYLB44QY9wcqJmFZvJW8D3EYPDaJGSgGfkbJVxUbkVcU7C, 600 ),\n",
       " AxonInfo( /ipv4/216.153.62.113:8892, 5FKwbwguHU1SVQiGot5YKSTQ6fWGVv2wRHFrWfwp9X9nWbyU, 5GeYLB44QY9wcqJmFZvJW8D3EYPDaJGSgGfkbJVxUbkVcU7C, 600 ),\n",
       " AxonInfo( /ipv0/0.0.0.0:0, 5HeYRB1Ks524E5Yo1kwRE7sB2dFuvmnigfopPimpjT7CtAfH, 5FsgCEGqyeojNK4cbYzkfi9pWsX5KzjXBJ7Ko64jqUX3gug8, 0 ),\n",
       " AxonInfo( /ipv4/185.32.161.60:44841, 5HKDDxCf8Z6YAUKFh38xXUBRgeUh3suAkTgLBBs1hVtGKHKv, 5EjvBaoDiwpqbTtgrhAKRpCVmhPb9MKVCvDuwkjkwCk8XvNY, 600 ),\n",
       " AxonInfo( /ipv0/0.0.0.0:0, 5FRRZDVnssoY6YLnvKVTc2yw5NUm6xKdde2MQqUX6ubdye6G, 5E9YfVdJnvj3WhTGUDyGDqamCQVWi1ELgdRZQLZDu16dQXKG, 0 ),\n",
       " AxonInfo( /ipv4/82.122.126.69:8098, 5Cr39mWveaY81SueFiK8b4rR7HYkRqe52KYzvC1tA8euBX3h, 5E4mVeAjCx2ip3nfNDbvCiM2hMDkSWfWQMgGna27xZJPpLsB, 600 ),\n",
       " AxonInfo( /ipv4/31.12.82.146:8091, 5Ge2grkA9Qb8cPwcSQtgsGn2rKJ8LXbPTz8JTHR4Wy97NCB1, 5CQ5GFAPpgtgyJm5hCpdFwDPLwvLr5jn3kUVpn4N9SffdSN5, 600 ),\n",
       " AxonInfo( /ipv4/147.189.195.88:6672, 5H4AXVnMDrUoHUzUFcruGtkhJ1ChLvhYcM3JhjucY29KfECY, 5CQ5GFAPpgtgyJm5hCpdFwDPLwvLr5jn3kUVpn4N9SffdSN5, 600 ),\n",
       " AxonInfo( /ipv0/0.0.0.0:0, 5CLTEko3a9FTmtR5xNWhHxqWkE23any2KXsbNu2RvbMQiMi5, 5EJEx2Ak4okZQnYpAgnJ6cA7XHUaCMYHVodnRpa6LfT9tW1t, 0 ),\n",
       " AxonInfo( /ipv4/216.153.62.113:8893, 5HMkenrS5hYtdmcZPJmdHTsEcTxPqyCkSFzHccDdcCjhqbQJ, 5GeYLB44QY9wcqJmFZvJW8D3EYPDaJGSgGfkbJVxUbkVcU7C, 600 ),\n",
       " AxonInfo( /ipv4/216.153.62.113:8894, 5DhLmDnkeBy3TCSSF1ZtkFXJANk37vZrNeNGoMDpsDAzh4vW, 5GeYLB44QY9wcqJmFZvJW8D3EYPDaJGSgGfkbJVxUbkVcU7C, 600 ),\n",
       " AxonInfo( /ipv0/0.0.0.0:0, 5Hddm3iBFD2GLT5ik7LZnT3XJUnRnN8PoeCFgGQgawUVKNm8, 5DCQw11aUW7bozAKkB8tB5bHqAjiu4F6mVLZBdgJnk8dzUoV, 0 ),\n",
       " AxonInfo( /ipv4/147.189.195.88:6674, 5G6PjaYxpsaDfHvwY1rkSnEW53qkasXTCHCaX8Dujc13pRCo, 5CQ5GFAPpgtgyJm5hCpdFwDPLwvLr5jn3kUVpn4N9SffdSN5, 600 ),\n",
       " AxonInfo( /ipv4/147.189.195.88:6676, 5EcMcupXTTF8h2eJxQ2R6mzU7ccfcvudFXYqCwLJWRZtYM36, 5Ge2grkA9Qb8cPwcSQtgsGn2rKJ8LXbPTz8JTHR4Wy97NCB1, 600 ),\n",
       " AxonInfo( /ipv4/149.137.225.62:8892, 5HnQFoqWHqXQj2Fw4SjaRans9ENdudKonxYKQcSHzysTMLXe, 5GeYLB44QY9wcqJmFZvJW8D3EYPDaJGSgGfkbJVxUbkVcU7C, 600 ),\n",
       " AxonInfo( /ipv4/149.137.225.62:8893, 5CdGWgkcpizNUgdnK8TQjgmZciu84Nd4USzUTLyQoBUFVKnD, 5GeYLB44QY9wcqJmFZvJW8D3EYPDaJGSgGfkbJVxUbkVcU7C, 600 ),\n",
       " AxonInfo( /ipv4/149.137.225.62:8894, 5Fq8LCwWwS8efQ4y4PQeYLNZ6EUBSVJyu8ySKNdro6nhkbwj, 5GeYLB44QY9wcqJmFZvJW8D3EYPDaJGSgGfkbJVxUbkVcU7C, 600 ),\n",
       " AxonInfo( /ipv4/149.137.225.62:8895, 5HL91g4tz8QG5sTY9xkDDXmYe8h1rwaaXgFNL8EqdUpnstHT, 5GeYLB44QY9wcqJmFZvJW8D3EYPDaJGSgGfkbJVxUbkVcU7C, 600 ),\n",
       " AxonInfo( /ipv4/149.137.225.62:8896, 5CVSjN2fMU7mP4B7oAG1V6LsNqyQNLLhDWsot1xiPAPVVHj1, 5GeYLB44QY9wcqJmFZvJW8D3EYPDaJGSgGfkbJVxUbkVcU7C, 600 ),\n",
       " AxonInfo( /ipv4/149.137.225.62:8897, 5GjBkhRhq5V7yiqdPDFe3k8rj3CsrfW7r6u7S6FKeYJ8627i, 5GeYLB44QY9wcqJmFZvJW8D3EYPDaJGSgGfkbJVxUbkVcU7C, 600 ),\n",
       " AxonInfo( /ipv4/149.137.225.62:8898, 5H1CaMTf6XvzSYLcLe4AhnXwttQ4z3ry6fy9XzS9wrxV5vFA, 5GeYLB44QY9wcqJmFZvJW8D3EYPDaJGSgGfkbJVxUbkVcU7C, 600 ),\n",
       " AxonInfo( /ipv4/149.137.225.62:8891, 5D1z84huokWgAuLXVhZeY1hqeaybk7W36ZhX7hXsRHwJSM1a, 5GeYLB44QY9wcqJmFZvJW8D3EYPDaJGSgGfkbJVxUbkVcU7C, 600 ),\n",
       " AxonInfo( /ipv0/0.0.0.0:0, 5FbHff5f2gUqu4r3Kfcm352VAognfCJv2owqCthiyCw8yTi2, 5GeYLB44QY9wcqJmFZvJW8D3EYPDaJGSgGfkbJVxUbkVcU7C, 0 ),\n",
       " AxonInfo( /ipv0/0.0.0.0:0, 5CVXiWpS5HBRLXm487c2MTeTmAWQfW5LyQYrbsXBmS2KZcuP, 5GeYLB44QY9wcqJmFZvJW8D3EYPDaJGSgGfkbJVxUbkVcU7C, 0 )]"
      ]
     },
     "execution_count": 20,
     "metadata": {},
     "output_type": "execute_result"
    }
   ],
   "source": [
    "# Get list of axons to query\n",
    "axons = metagraph.axons\n",
    "axons"
   ]
  },
  {
   "cell_type": "code",
   "execution_count": 21,
   "metadata": {},
   "outputs": [
    {
     "data": {
      "text/plain": [
       "dendrite(5ELoP6fx4JMJELGFZT1gobySjh2j5QKSpDKoynsDSBNXfS7F)"
      ]
     },
     "execution_count": 21,
     "metadata": {},
     "output_type": "execute_result"
    }
   ],
   "source": [
    "# Create a Dendrite instance to handle client-side communication.\n",
    "d = bt.dendrite(wallet=wallet)\n",
    "d"
   ]
  },
  {
   "cell_type": "code",
   "execution_count": 22,
   "metadata": {},
   "outputs": [
    {
     "name": "stdout",
     "output_type": "stream",
     "text": [
      "\u001b[34m2023-09-28 22:19:44.689\u001b[0m | \u001b[34m\u001b[1m     DEBUG      \u001b[0m | dendrite | --> | 3410 B | Prompting | 5FLDSzoPejcrQW5CYbXvq7WE5X9NL6SFD4xJqmyjc72xUhHE | 0.0.0.0:0 | 0 | Success\n",
      "\u001b[34m2023-09-28 22:19:44.730\u001b[0m | \u001b[34m\u001b[1m     DEBUG      \u001b[0m | dendrite | --> | 3444 B | Prompting | 5CRpcbKCAjTggD2AyGJds9CgXad83hdpBYLvsvE3JdRmwqN6 | 142.179.79.99:8098 | 0 | Success\n",
      "\u001b[34m2023-09-28 22:19:44.768\u001b[0m | \u001b[34m\u001b[1m     DEBUG      \u001b[0m | dendrite | --> | 3444 B | Prompting | 5EntLszo4dRveuHK7MmKxdMZL87oTkmjvNf6VuWkViSDgAbg | 142.179.79.99:8098 | 0 | Success\n",
      "\u001b[34m2023-09-28 22:19:44.806\u001b[0m | \u001b[34m\u001b[1m     DEBUG      \u001b[0m | dendrite | --> | 3444 B | Prompting | 5CXTmXekiNHa8K4qf38L6JAEi5YwqjgEP86J7sdntQ4jELMH | 142.179.79.99:8098 | 0 | Success\n",
      "\u001b[34m2023-09-28 22:19:44.844\u001b[0m | \u001b[34m\u001b[1m     DEBUG      \u001b[0m | dendrite | --> | 3444 B | Prompting | 5EUSrVoEQpzVVKDjmmqD9gPwoKMV78SXMWkji83oKuKYAaKX | 142.179.79.99:8098 | 0 | Success\n",
      "\u001b[34m2023-09-28 22:19:44.883\u001b[0m | \u001b[34m\u001b[1m     DEBUG      \u001b[0m | dendrite | --> | 3444 B | Prompting | 5DDYXx4yWrXanQ38wJaW8bTkfwJaCziWeH7mexNAxBMB8KAJ | 142.179.79.99:8098 | 0 | Success\n",
      "\u001b[34m2023-09-28 22:19:44.921\u001b[0m | \u001b[34m\u001b[1m     DEBUG      \u001b[0m | dendrite | --> | 3410 B | Prompting | 5H6FFeVR21WLRxkh7kAe5dcs4WRKP65mZKZy1NzhaVjcgXtT | 0.0.0.0:0 | 0 | Success\n",
      "\u001b[34m2023-09-28 22:19:44.960\u001b[0m | \u001b[34m\u001b[1m     DEBUG      \u001b[0m | dendrite | --> | 3410 B | Prompting | 5CP9yFmNqiafpXDsTrdZvFpGgnGUkmGW2geM4TZPJmWYaVu2 | 0.0.0.0:0 | 0 | Success\n",
      "\u001b[34m2023-09-28 22:19:44.999\u001b[0m | \u001b[34m\u001b[1m     DEBUG      \u001b[0m | dendrite | --> | 3410 B | Prompting | 5CD1W3JvbVsNu5ouJRs32MmNizzSkpxJtfy1zom2CYFQDZxk | 0.0.0.0:0 | 0 | Success\n",
      "\u001b[34m2023-09-28 22:19:45.037\u001b[0m | \u001b[34m\u001b[1m     DEBUG      \u001b[0m | dendrite | --> | 3443 B | Prompting | 5FgznZZxh8npgWrxi57VtHwEXUyJmMvQXeCsxs1buui8QynB | 192.9.144.70:8093 | 0 | Success\n",
      "\u001b[34m2023-09-28 22:19:45.075\u001b[0m | \u001b[34m\u001b[1m     DEBUG      \u001b[0m | dendrite | --> | 3443 B | Prompting | 5EvcLJBq53x6i9BhRjTaq3PaUMmhiuoTCgU3XWL3A1w1CYge | 192.9.144.70:8092 | 0 | Success\n",
      "\u001b[34m2023-09-28 22:19:45.113\u001b[0m | \u001b[34m\u001b[1m     DEBUG      \u001b[0m | dendrite | --> | 3443 B | Prompting | 5HBoAg19LEVaNxhv8XWQpZnjfNJYU1kGjk9TdPJecKPtAQ4r | 192.9.144.70:8094 | 0 | Success\n",
      "\u001b[34m2023-09-28 22:19:45.151\u001b[0m | \u001b[34m\u001b[1m     DEBUG      \u001b[0m | dendrite | --> | 3443 B | Prompting | 5FpWNbGGSQSNSF4SH3yrqUkNdkTmfT86jYLjKmhkuCsdmzeV | 192.9.144.70:8095 | 0 | Success\n",
      "\u001b[34m2023-09-28 22:19:45.190\u001b[0m | \u001b[34m\u001b[1m     DEBUG      \u001b[0m | dendrite | --> | 3445 B | Prompting | 5C86aJ2uQawR6P6veaJQXNK9HaWh6NMbUhTiLs65kq4ZW3NH | 216.153.62.113:8888 | 0 | Success\n",
      "\u001b[34m2023-09-28 22:19:45.229\u001b[0m | \u001b[34m\u001b[1m     DEBUG      \u001b[0m | dendrite | --> | 3410 B | Prompting | 5ELoP6fx4JMJELGFZT1gobySjh2j5QKSpDKoynsDSBNXfS7F | 0.0.0.0:0 | 0 | Success\n",
      "\u001b[34m2023-09-28 22:19:45.267\u001b[0m | \u001b[34m\u001b[1m     DEBUG      \u001b[0m | dendrite | --> | 3410 B | Prompting | 5CvjMLhb492gaZrJFauY87qMMwJomKuK7dTUaXgdUanLTU9Z | 0.0.0.0:0 | 0 | Success\n",
      "\u001b[34m2023-09-28 22:19:45.305\u001b[0m | \u001b[34m\u001b[1m     DEBUG      \u001b[0m | dendrite | --> | 3443 B | Prompting | 5DSRaVLKn7MUjy7rg957Ykur8kKKmT3bNj273kpaQKhSWmx5 | 192.9.144.70:8096 | 0 | Success\n",
      "\u001b[34m2023-09-28 22:19:45.344\u001b[0m | \u001b[34m\u001b[1m     DEBUG      \u001b[0m | dendrite | --> | 3410 B | Prompting | 5FtGpiLwt3GyKUZGrrpMMPbQU7ZGeLYMunzujgwXJfnWj7EU | 0.0.0.0:0 | 0 | Success\n",
      "\u001b[34m2023-09-28 22:19:45.382\u001b[0m | \u001b[34m\u001b[1m     DEBUG      \u001b[0m | dendrite | --> | 3445 B | Prompting | 5EHnf4FMXm7uWghWzLxZcnGDRy1AJKqF5MxmApxcbHV53Ao4 | 149.137.225.62:8098 | 0 | Success\n",
      "\u001b[34m2023-09-28 22:19:45.422\u001b[0m | \u001b[34m\u001b[1m     DEBUG      \u001b[0m | dendrite | --> | 3445 B | Prompting | 5FpxM1JtFgxxcFQMiuH1YdRpAS1aP3Wc32D5ELp9zE2AZsWS | 216.153.62.113:8891 | 0 | Success\n",
      "\u001b[34m2023-09-28 22:19:45.461\u001b[0m | \u001b[34m\u001b[1m     DEBUG      \u001b[0m | dendrite | --> | 3445 B | Prompting | 5FKwbwguHU1SVQiGot5YKSTQ6fWGVv2wRHFrWfwp9X9nWbyU | 216.153.62.113:8892 | 0 | Success\n",
      "\u001b[34m2023-09-28 22:19:45.499\u001b[0m | \u001b[34m\u001b[1m     DEBUG      \u001b[0m | dendrite | --> | 3410 B | Prompting | 5HeYRB1Ks524E5Yo1kwRE7sB2dFuvmnigfopPimpjT7CtAfH | 0.0.0.0:0 | 0 | Success\n",
      "\u001b[34m2023-09-28 22:19:45.538\u001b[0m | \u001b[34m\u001b[1m     DEBUG      \u001b[0m | dendrite | --> | 3444 B | Prompting | 5HKDDxCf8Z6YAUKFh38xXUBRgeUh3suAkTgLBBs1hVtGKHKv | 185.32.161.60:44841 | 0 | Success\n",
      "\u001b[34m2023-09-28 22:19:45.576\u001b[0m | \u001b[34m\u001b[1m     DEBUG      \u001b[0m | dendrite | --> | 3410 B | Prompting | 5FRRZDVnssoY6YLnvKVTc2yw5NUm6xKdde2MQqUX6ubdye6G | 0.0.0.0:0 | 0 | Success\n",
      "\u001b[34m2023-09-28 22:19:45.614\u001b[0m | \u001b[34m\u001b[1m     DEBUG      \u001b[0m | dendrite | --> | 3444 B | Prompting | 5Cr39mWveaY81SueFiK8b4rR7HYkRqe52KYzvC1tA8euBX3h | 82.122.126.69:8098 | 0 | Success\n",
      "\u001b[34m2023-09-28 22:19:45.653\u001b[0m | \u001b[34m\u001b[1m     DEBUG      \u001b[0m | dendrite | --> | 3443 B | Prompting | 5Ge2grkA9Qb8cPwcSQtgsGn2rKJ8LXbPTz8JTHR4Wy97NCB1 | 31.12.82.146:8091 | 0 | Success\n",
      "\u001b[34m2023-09-28 22:19:45.691\u001b[0m | \u001b[34m\u001b[1m     DEBUG      \u001b[0m | dendrite | --> | 3445 B | Prompting | 5H4AXVnMDrUoHUzUFcruGtkhJ1ChLvhYcM3JhjucY29KfECY | 147.189.195.88:6672 | 0 | Success\n",
      "\u001b[34m2023-09-28 22:19:45.729\u001b[0m | \u001b[34m\u001b[1m     DEBUG      \u001b[0m | dendrite | --> | 3410 B | Prompting | 5CLTEko3a9FTmtR5xNWhHxqWkE23any2KXsbNu2RvbMQiMi5 | 0.0.0.0:0 | 0 | Success\n",
      "\u001b[34m2023-09-28 22:19:45.767\u001b[0m | \u001b[34m\u001b[1m     DEBUG      \u001b[0m | dendrite | --> | 3445 B | Prompting | 5HMkenrS5hYtdmcZPJmdHTsEcTxPqyCkSFzHccDdcCjhqbQJ | 216.153.62.113:8893 | 0 | Success\n",
      "\u001b[34m2023-09-28 22:19:45.806\u001b[0m | \u001b[34m\u001b[1m     DEBUG      \u001b[0m | dendrite | --> | 3445 B | Prompting | 5DhLmDnkeBy3TCSSF1ZtkFXJANk37vZrNeNGoMDpsDAzh4vW | 216.153.62.113:8894 | 0 | Success\n",
      "\u001b[34m2023-09-28 22:19:45.844\u001b[0m | \u001b[34m\u001b[1m     DEBUG      \u001b[0m | dendrite | --> | 3410 B | Prompting | 5Hddm3iBFD2GLT5ik7LZnT3XJUnRnN8PoeCFgGQgawUVKNm8 | 0.0.0.0:0 | 0 | Success\n",
      "\u001b[34m2023-09-28 22:19:45.882\u001b[0m | \u001b[34m\u001b[1m     DEBUG      \u001b[0m | dendrite | --> | 3445 B | Prompting | 5G6PjaYxpsaDfHvwY1rkSnEW53qkasXTCHCaX8Dujc13pRCo | 147.189.195.88:6674 | 0 | Success\n",
      "\u001b[34m2023-09-28 22:19:45.920\u001b[0m | \u001b[34m\u001b[1m     DEBUG      \u001b[0m | dendrite | --> | 3445 B | Prompting | 5EcMcupXTTF8h2eJxQ2R6mzU7ccfcvudFXYqCwLJWRZtYM36 | 147.189.195.88:6676 | 0 | Success\n",
      "\u001b[34m2023-09-28 22:19:45.962\u001b[0m | \u001b[34m\u001b[1m     DEBUG      \u001b[0m | dendrite | --> | 3445 B | Prompting | 5HnQFoqWHqXQj2Fw4SjaRans9ENdudKonxYKQcSHzysTMLXe | 149.137.225.62:8892 | 0 | Success\n",
      "\u001b[34m2023-09-28 22:19:46.000\u001b[0m | \u001b[34m\u001b[1m     DEBUG      \u001b[0m | dendrite | --> | 3445 B | Prompting | 5CdGWgkcpizNUgdnK8TQjgmZciu84Nd4USzUTLyQoBUFVKnD | 149.137.225.62:8893 | 0 | Success\n",
      "\u001b[34m2023-09-28 22:19:46.038\u001b[0m | \u001b[34m\u001b[1m     DEBUG      \u001b[0m | dendrite | --> | 3445 B | Prompting | 5Fq8LCwWwS8efQ4y4PQeYLNZ6EUBSVJyu8ySKNdro6nhkbwj | 149.137.225.62:8894 | 0 | Success\n",
      "\u001b[34m2023-09-28 22:19:46.077\u001b[0m | \u001b[34m\u001b[1m     DEBUG      \u001b[0m | dendrite | --> | 3445 B | Prompting | 5HL91g4tz8QG5sTY9xkDDXmYe8h1rwaaXgFNL8EqdUpnstHT | 149.137.225.62:8895 | 0 | Success\n",
      "\u001b[34m2023-09-28 22:19:46.115\u001b[0m | \u001b[34m\u001b[1m     DEBUG      \u001b[0m | dendrite | --> | 3445 B | Prompting | 5CVSjN2fMU7mP4B7oAG1V6LsNqyQNLLhDWsot1xiPAPVVHj1 | 149.137.225.62:8896 | 0 | Success\n",
      "\u001b[34m2023-09-28 22:19:46.155\u001b[0m | \u001b[34m\u001b[1m     DEBUG      \u001b[0m | dendrite | --> | 3445 B | Prompting | 5GjBkhRhq5V7yiqdPDFe3k8rj3CsrfW7r6u7S6FKeYJ8627i | 149.137.225.62:8897 | 0 | Success\n",
      "\u001b[34m2023-09-28 22:19:46.193\u001b[0m | \u001b[34m\u001b[1m     DEBUG      \u001b[0m | dendrite | --> | 3445 B | Prompting | 5H1CaMTf6XvzSYLcLe4AhnXwttQ4z3ry6fy9XzS9wrxV5vFA | 149.137.225.62:8898 | 0 | Success\n",
      "\u001b[34m2023-09-28 22:19:46.231\u001b[0m | \u001b[34m\u001b[1m     DEBUG      \u001b[0m | dendrite | --> | 3445 B | Prompting | 5D1z84huokWgAuLXVhZeY1hqeaybk7W36ZhX7hXsRHwJSM1a | 149.137.225.62:8891 | 0 | Success\n",
      "\u001b[34m2023-09-28 22:19:46.270\u001b[0m | \u001b[34m\u001b[1m     DEBUG      \u001b[0m | dendrite | --> | 3410 B | Prompting | 5FbHff5f2gUqu4r3Kfcm352VAognfCJv2owqCthiyCw8yTi2 | 0.0.0.0:0 | 0 | Success\n",
      "\u001b[34m2023-09-28 22:19:46.307\u001b[0m | \u001b[34m\u001b[1m     DEBUG      \u001b[0m | dendrite | --> | 3410 B | Prompting | 5CVXiWpS5HBRLXm487c2MTeTmAWQfW5LyQYrbsXBmS2KZcuP | 0.0.0.0:0 | 0 | Success\n",
      "\u001b[34m2023-09-28 22:19:46.317\u001b[0m | \u001b[34m\u001b[1m     DEBUG      \u001b[0m | dendrite | <-- | 3558 B | Prompting | 5FLDSzoPejcrQW5CYbXvq7WE5X9NL6SFD4xJqmyjc72xUhHE | 0.0.0.0:0 | 503 | Service at 0.0.0.0:0/Prompting unavailable.\n",
      "\u001b[34m2023-09-28 22:19:46.322\u001b[0m | \u001b[34m\u001b[1m     DEBUG      \u001b[0m | dendrite | <-- | 3558 B | Prompting | 5H6FFeVR21WLRxkh7kAe5dcs4WRKP65mZKZy1NzhaVjcgXtT | 0.0.0.0:0 | 503 | Service at 0.0.0.0:0/Prompting unavailable.\n",
      "\u001b[34m2023-09-28 22:19:46.327\u001b[0m | \u001b[34m\u001b[1m     DEBUG      \u001b[0m | dendrite | <-- | 3558 B | Prompting | 5CP9yFmNqiafpXDsTrdZvFpGgnGUkmGW2geM4TZPJmWYaVu2 | 0.0.0.0:0 | 503 | Service at 0.0.0.0:0/Prompting unavailable.\n",
      "\u001b[34m2023-09-28 22:19:46.332\u001b[0m | \u001b[34m\u001b[1m     DEBUG      \u001b[0m | dendrite | <-- | 3558 B | Prompting | 5CD1W3JvbVsNu5ouJRs32MmNizzSkpxJtfy1zom2CYFQDZxk | 0.0.0.0:0 | 503 | Service at 0.0.0.0:0/Prompting unavailable.\n",
      "\u001b[34m2023-09-28 22:19:46.337\u001b[0m | \u001b[34m\u001b[1m     DEBUG      \u001b[0m | dendrite | <-- | 3558 B | Prompting | 5ELoP6fx4JMJELGFZT1gobySjh2j5QKSpDKoynsDSBNXfS7F | 0.0.0.0:0 | 503 | Service at 0.0.0.0:0/Prompting unavailable.\n",
      "\u001b[34m2023-09-28 22:19:46.341\u001b[0m | \u001b[34m\u001b[1m     DEBUG      \u001b[0m | dendrite | <-- | 3558 B | Prompting | 5CvjMLhb492gaZrJFauY87qMMwJomKuK7dTUaXgdUanLTU9Z | 0.0.0.0:0 | 503 | Service at 0.0.0.0:0/Prompting unavailable.\n",
      "\u001b[34m2023-09-28 22:19:46.346\u001b[0m | \u001b[34m\u001b[1m     DEBUG      \u001b[0m | dendrite | <-- | 3558 B | Prompting | 5FtGpiLwt3GyKUZGrrpMMPbQU7ZGeLYMunzujgwXJfnWj7EU | 0.0.0.0:0 | 503 | Service at 0.0.0.0:0/Prompting unavailable.\n",
      "\u001b[34m2023-09-28 22:19:46.351\u001b[0m | \u001b[34m\u001b[1m     DEBUG      \u001b[0m | dendrite | <-- | 3558 B | Prompting | 5HeYRB1Ks524E5Yo1kwRE7sB2dFuvmnigfopPimpjT7CtAfH | 0.0.0.0:0 | 503 | Service at 0.0.0.0:0/Prompting unavailable.\n",
      "\u001b[34m2023-09-28 22:19:46.356\u001b[0m | \u001b[34m\u001b[1m     DEBUG      \u001b[0m | dendrite | <-- | 3558 B | Prompting | 5FRRZDVnssoY6YLnvKVTc2yw5NUm6xKdde2MQqUX6ubdye6G | 0.0.0.0:0 | 503 | Service at 0.0.0.0:0/Prompting unavailable.\n",
      "\u001b[34m2023-09-28 22:19:46.360\u001b[0m | \u001b[34m\u001b[1m     DEBUG      \u001b[0m | dendrite | <-- | 3558 B | Prompting | 5CLTEko3a9FTmtR5xNWhHxqWkE23any2KXsbNu2RvbMQiMi5 | 0.0.0.0:0 | 503 | Service at 0.0.0.0:0/Prompting unavailable.\n",
      "\u001b[34m2023-09-28 22:19:46.365\u001b[0m | \u001b[34m\u001b[1m     DEBUG      \u001b[0m | dendrite | <-- | 3558 B | Prompting | 5Hddm3iBFD2GLT5ik7LZnT3XJUnRnN8PoeCFgGQgawUVKNm8 | 0.0.0.0:0 | 503 | Service at 0.0.0.0:0/Prompting unavailable.\n",
      "\u001b[34m2023-09-28 22:19:46.372\u001b[0m | \u001b[34m\u001b[1m     DEBUG      \u001b[0m | dendrite | <-- | 3558 B | Prompting | 5FbHff5f2gUqu4r3Kfcm352VAognfCJv2owqCthiyCw8yTi2 | 0.0.0.0:0 | 503 | Service at 0.0.0.0:0/Prompting unavailable.\n",
      "\u001b[34m2023-09-28 22:19:46.376\u001b[0m | \u001b[34m\u001b[1m     DEBUG      \u001b[0m | dendrite | <-- | 3558 B | Prompting | 5CVXiWpS5HBRLXm487c2MTeTmAWQfW5LyQYrbsXBmS2KZcuP | 0.0.0.0:0 | 503 | Service at 0.0.0.0:0/Prompting unavailable.\n",
      "\u001b[34m2023-09-28 22:19:46.385\u001b[0m | \u001b[34m\u001b[1m     DEBUG      \u001b[0m | dendrite | <-- | 3603 B | Prompting | 5C86aJ2uQawR6P6veaJQXNK9HaWh6NMbUhTiLs65kq4ZW3NH | 216.153.62.113:8888 | 503 | Service at 216.153.62.113:8888/Prompting unavailable.\n",
      "\u001b[34m2023-09-28 22:19:46.395\u001b[0m | \u001b[34m\u001b[1m     DEBUG      \u001b[0m | dendrite | <-- | 3603 B | Prompting | 5FKwbwguHU1SVQiGot5YKSTQ6fWGVv2wRHFrWfwp9X9nWbyU | 216.153.62.113:8892 | 503 | Service at 216.153.62.113:8892/Prompting unavailable.\n",
      "\u001b[34m2023-09-28 22:19:46.405\u001b[0m | \u001b[34m\u001b[1m     DEBUG      \u001b[0m | dendrite | <-- | 3603 B | Prompting | 5FpxM1JtFgxxcFQMiuH1YdRpAS1aP3Wc32D5ELp9zE2AZsWS | 216.153.62.113:8891 | 503 | Service at 216.153.62.113:8891/Prompting unavailable.\n",
      "\u001b[34m2023-09-28 22:19:46.415\u001b[0m | \u001b[34m\u001b[1m     DEBUG      \u001b[0m | dendrite | <-- | 3603 B | Prompting | 5HMkenrS5hYtdmcZPJmdHTsEcTxPqyCkSFzHccDdcCjhqbQJ | 216.153.62.113:8893 | 503 | Service at 216.153.62.113:8893/Prompting unavailable.\n",
      "\u001b[34m2023-09-28 22:19:46.426\u001b[0m | \u001b[34m\u001b[1m     DEBUG      \u001b[0m | dendrite | <-- | 3603 B | Prompting | 5DhLmDnkeBy3TCSSF1ZtkFXJANk37vZrNeNGoMDpsDAzh4vW | 216.153.62.113:8894 | 503 | Service at 216.153.62.113:8894/Prompting unavailable.\n",
      "\u001b[34m2023-09-28 22:19:46.436\u001b[0m | \u001b[34m\u001b[1m     DEBUG      \u001b[0m | dendrite | <-- | 3599 B | Prompting | 5FpWNbGGSQSNSF4SH3yrqUkNdkTmfT86jYLjKmhkuCsdmzeV | 192.9.144.70:8095 | 503 | Service at 192.9.144.70:8095/Prompting unavailable.\n",
      "\u001b[34m2023-09-28 22:19:46.445\u001b[0m | \u001b[34m\u001b[1m     DEBUG      \u001b[0m | dendrite | <-- | 3599 B | Prompting | 5FgznZZxh8npgWrxi57VtHwEXUyJmMvQXeCsxs1buui8QynB | 192.9.144.70:8093 | 503 | Service at 192.9.144.70:8093/Prompting unavailable.\n",
      "\u001b[34m2023-09-28 22:19:46.450\u001b[0m | \u001b[34m\u001b[1m     DEBUG      \u001b[0m | dendrite | <-- | 3599 B | Prompting | 5DSRaVLKn7MUjy7rg957Ykur8kKKmT3bNj273kpaQKhSWmx5 | 192.9.144.70:8096 | 503 | Service at 192.9.144.70:8096/Prompting unavailable.\n",
      "\u001b[34m2023-09-28 22:19:46.459\u001b[0m | \u001b[34m\u001b[1m     DEBUG      \u001b[0m | dendrite | <-- | 3599 B | Prompting | 5Ge2grkA9Qb8cPwcSQtgsGn2rKJ8LXbPTz8JTHR4Wy97NCB1 | 31.12.82.146:8091 | 503 | Service at 31.12.82.146:8091/Prompting unavailable.\n",
      "\u001b[34m2023-09-28 22:19:46.463\u001b[0m | \u001b[34m\u001b[1m     DEBUG      \u001b[0m | dendrite | <-- | 4329 B | Prompting | 5EHnf4FMXm7uWghWzLxZcnGDRy1AJKqF5MxmApxcbHV53Ao4 | 149.137.225.62:8098 | 401 | Not Verified with error: Signature mismatch with 6848339835152750.5ELoP6fx4JMJELGFZT1gobySjh2j5QKSpDKoynsDSBNXfS7F.5EHnf4FMXm7uWghWzLxZcnGDRy1AJKqF5MxmApxcbHV53Ao4.1f4348c8-5e4d-11ee-89e6-3ceceff2faf8.821bf06b4dcb406ea508a4a992eadc22f29850cd208ba24aea7c29148de8ccf1 and 0xecacbd6b15a11c31cbbca38288abfceac462c96f11cb0cf6f4cc64095f1ba27cd68fd0e49e1286a6ba0e8bbad555178a984a09e0687ae765e175ef4642445e85\n",
      "\u001b[34m2023-09-28 22:19:46.464\u001b[0m | \u001b[34m\u001b[1m     DEBUG      \u001b[0m | dendrite | <-- | 4329 B | Prompting | 5EHnf4FMXm7uWghWzLxZcnGDRy1AJKqF5MxmApxcbHV53Ao4 | 149.137.225.62:8098 | 401 | Not Verified with error: Signature mismatch with 6848339835152750.5ELoP6fx4JMJELGFZT1gobySjh2j5QKSpDKoynsDSBNXfS7F.5EHnf4FMXm7uWghWzLxZcnGDRy1AJKqF5MxmApxcbHV53Ao4.1f4348c8-5e4d-11ee-89e6-3ceceff2faf8.821bf06b4dcb406ea508a4a992eadc22f29850cd208ba24aea7c29148de8ccf1 and 0xecacbd6b15a11c31cbbca38288abfceac462c96f11cb0cf6f4cc64095f1ba27cd68fd0e49e1286a6ba0e8bbad555178a984a09e0687ae765e175ef4642445e85\n",
      "\u001b[34m2023-09-28 22:19:46.488\u001b[0m | \u001b[34m\u001b[1m     DEBUG      \u001b[0m | dendrite | <-- | 3989 B | Prompting | 5CdGWgkcpizNUgdnK8TQjgmZciu84Nd4USzUTLyQoBUFVKnD | 149.137.225.62:8893 | 403 | Forbidden. Key is blacklisted: prompt already sent recently.\n",
      "\u001b[34m2023-09-28 22:19:46.488\u001b[0m | \u001b[34m\u001b[1m     DEBUG      \u001b[0m | dendrite | <-- | 3989 B | Prompting | 5CdGWgkcpizNUgdnK8TQjgmZciu84Nd4USzUTLyQoBUFVKnD | 149.137.225.62:8893 | 403 | Forbidden. Key is blacklisted: prompt already sent recently.\n",
      "\u001b[34m2023-09-28 22:19:46.493\u001b[0m | \u001b[34m\u001b[1m     DEBUG      \u001b[0m | dendrite | <-- | 3989 B | Prompting | 5D1z84huokWgAuLXVhZeY1hqeaybk7W36ZhX7hXsRHwJSM1a | 149.137.225.62:8891 | 403 | Forbidden. Key is blacklisted: prompt already sent recently.\n",
      "\u001b[34m2023-09-28 22:19:46.493\u001b[0m | \u001b[34m\u001b[1m     DEBUG      \u001b[0m | dendrite | <-- | 3989 B | Prompting | 5D1z84huokWgAuLXVhZeY1hqeaybk7W36ZhX7hXsRHwJSM1a | 149.137.225.62:8891 | 403 | Forbidden. Key is blacklisted: prompt already sent recently.\n",
      "\u001b[34m2023-09-28 22:19:46.497\u001b[0m | \u001b[34m\u001b[1m     DEBUG      \u001b[0m | dendrite | <-- | 3989 B | Prompting | 5GjBkhRhq5V7yiqdPDFe3k8rj3CsrfW7r6u7S6FKeYJ8627i | 149.137.225.62:8897 | 403 | Forbidden. Key is blacklisted: prompt already sent recently.\n",
      "\u001b[34m2023-09-28 22:19:46.498\u001b[0m | \u001b[34m\u001b[1m     DEBUG      \u001b[0m | dendrite | <-- | 3989 B | Prompting | 5GjBkhRhq5V7yiqdPDFe3k8rj3CsrfW7r6u7S6FKeYJ8627i | 149.137.225.62:8897 | 403 | Forbidden. Key is blacklisted: prompt already sent recently.\n",
      "\u001b[34m2023-09-28 22:19:46.508\u001b[0m | \u001b[34m\u001b[1m     DEBUG      \u001b[0m | dendrite | <-- | 3989 B | Prompting | 5HnQFoqWHqXQj2Fw4SjaRans9ENdudKonxYKQcSHzysTMLXe | 149.137.225.62:8892 | 403 | Forbidden. Key is blacklisted: prompt already sent recently.\n",
      "\u001b[34m2023-09-28 22:19:46.508\u001b[0m | \u001b[34m\u001b[1m     DEBUG      \u001b[0m | dendrite | <-- | 3989 B | Prompting | 5HnQFoqWHqXQj2Fw4SjaRans9ENdudKonxYKQcSHzysTMLXe | 149.137.225.62:8892 | 403 | Forbidden. Key is blacklisted: prompt already sent recently.\n",
      "\u001b[34m2023-09-28 22:19:46.512\u001b[0m | \u001b[34m\u001b[1m     DEBUG      \u001b[0m | dendrite | <-- | 3989 B | Prompting | 5H1CaMTf6XvzSYLcLe4AhnXwttQ4z3ry6fy9XzS9wrxV5vFA | 149.137.225.62:8898 | 403 | Forbidden. Key is blacklisted: prompt already sent recently.\n",
      "\u001b[34m2023-09-28 22:19:46.513\u001b[0m | \u001b[34m\u001b[1m     DEBUG      \u001b[0m | dendrite | <-- | 3989 B | Prompting | 5H1CaMTf6XvzSYLcLe4AhnXwttQ4z3ry6fy9XzS9wrxV5vFA | 149.137.225.62:8898 | 403 | Forbidden. Key is blacklisted: prompt already sent recently.\n",
      "\u001b[34m2023-09-28 22:19:46.518\u001b[0m | \u001b[34m\u001b[1m     DEBUG      \u001b[0m | dendrite | <-- | 3989 B | Prompting | 5HL91g4tz8QG5sTY9xkDDXmYe8h1rwaaXgFNL8EqdUpnstHT | 149.137.225.62:8895 | 403 | Forbidden. Key is blacklisted: prompt already sent recently.\n",
      "\u001b[34m2023-09-28 22:19:46.518\u001b[0m | \u001b[34m\u001b[1m     DEBUG      \u001b[0m | dendrite | <-- | 3989 B | Prompting | 5HL91g4tz8QG5sTY9xkDDXmYe8h1rwaaXgFNL8EqdUpnstHT | 149.137.225.62:8895 | 403 | Forbidden. Key is blacklisted: prompt already sent recently.\n",
      "\u001b[34m2023-09-28 22:19:46.522\u001b[0m | \u001b[34m\u001b[1m     DEBUG      \u001b[0m | dendrite | <-- | 3989 B | Prompting | 5CVSjN2fMU7mP4B7oAG1V6LsNqyQNLLhDWsot1xiPAPVVHj1 | 149.137.225.62:8896 | 403 | Forbidden. Key is blacklisted: prompt already sent recently.\n",
      "\u001b[34m2023-09-28 22:19:46.523\u001b[0m | \u001b[34m\u001b[1m     DEBUG      \u001b[0m | dendrite | <-- | 3989 B | Prompting | 5CVSjN2fMU7mP4B7oAG1V6LsNqyQNLLhDWsot1xiPAPVVHj1 | 149.137.225.62:8896 | 403 | Forbidden. Key is blacklisted: prompt already sent recently.\n",
      "\u001b[34m2023-09-28 22:19:46.527\u001b[0m | \u001b[34m\u001b[1m     DEBUG      \u001b[0m | dendrite | <-- | 3989 B | Prompting | 5Fq8LCwWwS8efQ4y4PQeYLNZ6EUBSVJyu8ySKNdro6nhkbwj | 149.137.225.62:8894 | 403 | Forbidden. Key is blacklisted: prompt already sent recently.\n",
      "\u001b[34m2023-09-28 22:19:46.527\u001b[0m | \u001b[34m\u001b[1m     DEBUG      \u001b[0m | dendrite | <-- | 3989 B | Prompting | 5Fq8LCwWwS8efQ4y4PQeYLNZ6EUBSVJyu8ySKNdro6nhkbwj | 149.137.225.62:8894 | 403 | Forbidden. Key is blacklisted: prompt already sent recently.\n",
      "\u001b[34m2023-09-28 22:19:46.590\u001b[0m | \u001b[34m\u001b[1m     DEBUG      \u001b[0m | dendrite | <-- | 3729 B | Prompting | 5HKDDxCf8Z6YAUKFh38xXUBRgeUh3suAkTgLBBs1hVtGKHKv | 185.32.161.60:44841 | 422 | Failed to parse response object with error: 0, message='Attempt to decode JSON with unexpected mimetype: text/plain; charset=utf-8', url=URL('http://185.32.161.60:44841/Prompting')\n",
      "\u001b[34m2023-09-28 22:19:46.634\u001b[0m | \u001b[34m\u001b[1m     DEBUG      \u001b[0m | dendrite | <-- | 3992 B | Prompting | 5HBoAg19LEVaNxhv8XWQpZnjfNJYU1kGjk9TdPJecKPtAQ4r | 192.9.144.70:8094 | 403 | Forbidden. Key is blacklisted: prompt already sent recently.\n",
      "\u001b[34m2023-09-28 22:19:46.634\u001b[0m | \u001b[34m\u001b[1m     DEBUG      \u001b[0m | dendrite | <-- | 3992 B | Prompting | 5HBoAg19LEVaNxhv8XWQpZnjfNJYU1kGjk9TdPJecKPtAQ4r | 192.9.144.70:8094 | 403 | Forbidden. Key is blacklisted: prompt already sent recently.\n",
      "\u001b[34m2023-09-28 22:19:47.089\u001b[0m | \u001b[34m\u001b[1m     DEBUG      \u001b[0m | dendrite | <-- | 3601 B | Prompting | 5Cr39mWveaY81SueFiK8b4rR7HYkRqe52KYzvC1tA8euBX3h | 82.122.126.69:8098 | 503 | Service at 82.122.126.69:8098/Prompting unavailable.\n",
      "\u001b[34m2023-09-28 22:19:54.347\u001b[0m | \u001b[34m\u001b[1m     DEBUG      \u001b[0m | dendrite | <-- | 3611 B | Prompting | 5EvcLJBq53x6i9BhRjTaq3PaUMmhiuoTCgU3XWL3A1w1CYge | 192.9.144.70:8092 | 422 | Failed to parse response object with error: Server disconnected\n",
      "\u001b[34m2023-09-28 22:19:57.517\u001b[0m | \u001b[34m\u001b[1m     DEBUG      \u001b[0m | dendrite | <-- | 3575 B | Prompting | 5EntLszo4dRveuHK7MmKxdMZL87oTkmjvNf6VuWkViSDgAbg | 142.179.79.99:8098 | 408 | Timedout after 12 seconds.\n",
      "\u001b[34m2023-09-28 22:19:57.529\u001b[0m | \u001b[34m\u001b[1m     DEBUG      \u001b[0m | dendrite | <-- | 3575 B | Prompting | 5DDYXx4yWrXanQ38wJaW8bTkfwJaCziWeH7mexNAxBMB8KAJ | 142.179.79.99:8098 | 408 | Timedout after 12 seconds.\n",
      "\u001b[34m2023-09-28 22:19:57.540\u001b[0m | \u001b[34m\u001b[1m     DEBUG      \u001b[0m | dendrite | <-- | 3575 B | Prompting | 5CRpcbKCAjTggD2AyGJds9CgXad83hdpBYLvsvE3JdRmwqN6 | 142.179.79.99:8098 | 408 | Timedout after 12 seconds.\n",
      "\u001b[34m2023-09-28 22:19:57.551\u001b[0m | \u001b[34m\u001b[1m     DEBUG      \u001b[0m | dendrite | <-- | 3575 B | Prompting | 5EUSrVoEQpzVVKDjmmqD9gPwoKMV78SXMWkji83oKuKYAaKX | 142.179.79.99:8098 | 408 | Timedout after 12 seconds.\n",
      "\u001b[34m2023-09-28 22:19:57.563\u001b[0m | \u001b[34m\u001b[1m     DEBUG      \u001b[0m | dendrite | <-- | 3575 B | Prompting | 5CXTmXekiNHa8K4qf38L6JAEi5YwqjgEP86J7sdntQ4jELMH | 142.179.79.99:8098 | 408 | Timedout after 12 seconds.\n",
      "\u001b[34m2023-09-28 22:19:58.515\u001b[0m | \u001b[34m\u001b[1m     DEBUG      \u001b[0m | dendrite | <-- | 3576 B | Prompting | 5EcMcupXTTF8h2eJxQ2R6mzU7ccfcvudFXYqCwLJWRZtYM36 | 147.189.195.88:6676 | 408 | Timedout after 12 seconds.\n",
      "\u001b[34m2023-09-28 22:19:58.526\u001b[0m | \u001b[34m\u001b[1m     DEBUG      \u001b[0m | dendrite | <-- | 3576 B | Prompting | 5H4AXVnMDrUoHUzUFcruGtkhJ1ChLvhYcM3JhjucY29KfECY | 147.189.195.88:6672 | 408 | Timedout after 12 seconds.\n",
      "\u001b[34m2023-09-28 22:19:58.538\u001b[0m | \u001b[34m\u001b[1m     DEBUG      \u001b[0m | dendrite | <-- | 3576 B | Prompting | 5G6PjaYxpsaDfHvwY1rkSnEW53qkasXTCHCaX8Dujc13pRCo | 147.189.195.88:6674 | 408 | Timedout after 12 seconds.\n"
     ]
    }
   ],
   "source": [
    "# Send a request to the Axon using the Dendrite, passing in a StreamPrompting instance with roles and messages.\n",
    "# The response is awaited, as the Dendrite communicates asynchronously with the Axon.\n",
    "resp = await d(\n",
    "    axons,\n",
    "    syn,\n",
    "    deserialize=True\n",
    ")"
   ]
  },
  {
   "cell_type": "code",
   "execution_count": null,
   "metadata": {},
   "outputs": [
    {
     "data": {
      "text/plain": [
       "[]"
      ]
     },
     "execution_count": 24,
     "metadata": {},
     "output_type": "execute_result"
    }
   ],
   "source": [
    "completions = list(map(lambda x: x.completion, resp))\n",
    "completinos"
   ]
  }
 ],
 "metadata": {
  "kernelspec": {
   "display_name": "rev",
   "language": "python",
   "name": "python3"
  },
  "language_info": {
   "codemirror_mode": {
    "name": "ipython",
    "version": 3
   },
   "file_extension": ".py",
   "mimetype": "text/x-python",
   "name": "python",
   "nbconvert_exporter": "python",
   "pygments_lexer": "ipython3",
   "version": "3.10.13"
  },
  "orig_nbformat": 4
 },
 "nbformat": 4,
 "nbformat_minor": 2
}
